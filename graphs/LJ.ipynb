{
 "metadata": {
  "name": ""
 },
 "nbformat": 3,
 "nbformat_minor": 0,
 "worksheets": [
  {
   "cells": [
    {
     "cell_type": "markdown",
     "metadata": {},
     "source": [
      "Lannard-Jones"
     ]
    },
    {
     "cell_type": "code",
     "collapsed": false,
     "input": [
      "%matplotlib inline"
     ],
     "language": "python",
     "metadata": {},
     "outputs": [],
     "prompt_number": 1
    },
    {
     "cell_type": "code",
     "collapsed": false,
     "input": [
      "from pylab import *"
     ],
     "language": "python",
     "metadata": {},
     "outputs": [],
     "prompt_number": 2
    },
    {
     "cell_type": "code",
     "collapsed": false,
     "input": [
      "e = 1\n",
      "s = 1\n",
      "r = linspace(0.96, 3, 1000)\n",
      "u = 4*e*((s/r)**(12)-(s/r)**(6))\n",
      "rd = linspace(3, 4, 1000)\n",
      "ud = 4*e*((s/rd)**(12)-(s/rd)**(6))\n",
      "\n",
      "fig = plt.figure(figsize=(6,4), dpi=300)\n",
      "\n",
      "axes = fig.add_axes([0.15,0.15, 0.8, 0.8]) # main axes\n",
      "\n",
      "axes.plot(r, u, 'r')\n",
      "axes.plot(rd, ud, 'b--')\n",
      "axes.grid(True)\n",
      "axes.set_xlim(0, 4)\n",
      "axes.set_ylim(-1.3, 1)\n",
      "\n",
      "annotate('cut-off',\n",
      "         xy=(3, 0), xycoords='data',\n",
      "         xytext=(+10, +30), textcoords='offset points', fontsize=16,\n",
      "         arrowprops=dict(arrowstyle=\"->\", connectionstyle=\"arc3,rad=.2\"))\n",
      "\n",
      "axes.set_xlabel(r'$r^*_{ij}$', fontsize=18)\n",
      "axes.set_ylabel(r'$\\mathcal{U}^*_{LJ}$', fontsize=18)"
     ],
     "language": "python",
     "metadata": {},
     "outputs": [
      {
       "metadata": {},
       "output_type": "pyout",
       "prompt_number": 3,
       "text": [
        "<matplotlib.text.Text at 0x7f78f0109650>"
       ]
      },
      {
       "metadata": {},
       "output_type": "display_data",
       "png": "[encoded data removed]",
       "text": [
        "<matplotlib.figure.Figure at 0x7f78f014a490>"
       ]
      }
     ],
     "prompt_number": 3
    },
    {
     "cell_type": "code",
     "collapsed": false,
     "input": [
      "fig.savefig(\"lj.pdf\",bbox_inches='tight')"
     ],
     "language": "python",
     "metadata": {},
     "outputs": [],
     "prompt_number": 5
    },
    {
     "cell_type": "code",
     "collapsed": false,
     "input": [],
     "language": "python",
     "metadata": {},
     "outputs": []
    }
   ],
   "metadata": {}
  }
 ]
}