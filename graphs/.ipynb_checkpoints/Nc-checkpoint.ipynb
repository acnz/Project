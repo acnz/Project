{
 "metadata": {
  "name": ""
 },
 "nbformat": 3,
 "nbformat_minor": 0,
 "worksheets": [
  {
   "cells": [
    {
     "cell_type": "code",
     "collapsed": false,
     "input": [
      "f2 = open('N-NAAI.dat', 'r');\n",
      "lines = f2.readlines();\n",
      "f2.close();\n",
      "g1 = []\n",
      "for line in lines:\n",
      "    p = line.split()\n",
      "    if len(p) > 1:\n",
      "        g1.append([float(p[0]),float(p[1])]) \n",
      "f2 = open('rdfAALow.dat', 'r');\n",
      "lines = f2.readlines();\n",
      "f2.close();\n",
      "g2 = []\n",
      "for line in lines:\n",
      "    p = line.split()\n",
      "    if len(p) > 1:\n",
      "        g2.append([float(p[0]),float(p[1])]) \n",
      "f2 = open('rdfAAhigh.dat', 'r');\n",
      "lines = f2.readlines();\n",
      "f2.close();\n",
      "g3 = []\n",
      "for line in lines:\n",
      "    p = line.split()\n",
      "    if len(p) > 1:\n",
      "        g3.append([float(p[0]),float(p[1])]) "
     ],
     "language": "python",
     "metadata": {},
     "outputs": [],
     "prompt_number": 3
    },
    {
     "cell_type": "code",
     "collapsed": false,
     "input": [
      "%pylab inline\n",
      "gn1 = np.array(g1)\n",
      "gn2 = np.array(g2)\n",
      "gn3 = np.array(g3)\n",
      "rx3 = 10*gn3[130:340,0]\n",
      "ry3 = gn3[130:340,1]\n",
      "len(gn1[:,1])"
     ],
     "language": "python",
     "metadata": {},
     "outputs": [
      {
       "output_type": "stream",
       "stream": "stdout",
       "text": [
        "Populating the interactive namespace from numpy and matplotlib\n"
       ]
      },
      {
       "metadata": {},
       "output_type": "pyout",
       "prompt_number": 64,
       "text": [
        "869"
       ]
      }
     ],
     "prompt_number": 64
    },
    {
     "cell_type": "code",
     "collapsed": false,
     "input": [
      "plt.figure(figsize=(8,6), dpi=80)\n",
      "plt.axis([0, 20, 0,6])\n",
      "plt.xlabel(r'$r,\\  (\\AA)$',fontsize=20)\n",
      "plt.ylabel(r'$g(r),\\  RDF$',fontsize=20)\n",
      "#plt.plot(10*gn1[:,0],gn1[:,1],'g-', label=\"Low\")\n",
      "#plt.plot(10*gn2[:,0],gn2[:,1],'r-', label=\"Intermediate\")\n",
      "plt.plot(10*gn3[:,0],gn3[:,1],'b-', label=\"High\")\n",
      "plt.plot(rx3,ry3,'k-', label=\"asda\")\n",
      "plt.legend(loc='upper right')\n",
      "savefig(\"rdfAA.pdf\", dpi=300)"
     ],
     "language": "python",
     "metadata": {},
     "outputs": [
      {
       "metadata": {},
       "output_type": "display_data",
       "png": "[encoded data removed]",
       "text": [
        "<matplotlib.figure.Figure at 0x7f11ca165710>"
       ]
      }
     ],
     "prompt_number": 65
    },
    {
     "cell_type": "code",
     "collapsed": false,
     "input": [
      "inte1 = np.trapz(ry,rx)\n",
      "print inte1\n",
      "inte2 = np.trapz(ry2,rx2)\n",
      "print inte2\n",
      "inte3 = np.trapz(ry3,rx3)\n",
      "print inte3"
     ],
     "language": "python",
     "metadata": {},
     "outputs": [
      {
       "ename": "NameError",
       "evalue": "name 'ry3' is not defined",
       "output_type": "pyerr",
       "traceback": [
        "\u001b[0;31m---------------------------------------------------------------------------\u001b[0m\n\u001b[0;31mNameError\u001b[0m                                 Traceback (most recent call last)",
        "\u001b[0;32m<ipython-input-58-a3e91b87f25d>\u001b[0m in \u001b[0;36m<module>\u001b[0;34m()\u001b[0m\n\u001b[1;32m      3\u001b[0m \u001b[0minte2\u001b[0m \u001b[0;34m=\u001b[0m \u001b[0mnp\u001b[0m\u001b[0;34m.\u001b[0m\u001b[0mtrapz\u001b[0m\u001b[0;34m(\u001b[0m\u001b[0mry2\u001b[0m\u001b[0;34m,\u001b[0m\u001b[0mrx2\u001b[0m\u001b[0;34m)\u001b[0m\u001b[0;34m\u001b[0m\u001b[0m\n\u001b[1;32m      4\u001b[0m \u001b[0;32mprint\u001b[0m \u001b[0minte2\u001b[0m\u001b[0;34m\u001b[0m\u001b[0m\n\u001b[0;32m----> 5\u001b[0;31m \u001b[0minte3\u001b[0m \u001b[0;34m=\u001b[0m \u001b[0mnp\u001b[0m\u001b[0;34m.\u001b[0m\u001b[0mtrapz\u001b[0m\u001b[0;34m(\u001b[0m\u001b[0mry3\u001b[0m\u001b[0;34m,\u001b[0m\u001b[0mrx3\u001b[0m\u001b[0;34m)\u001b[0m\u001b[0;34m\u001b[0m\u001b[0m\n\u001b[0m\u001b[1;32m      6\u001b[0m \u001b[0;32mprint\u001b[0m \u001b[0minte3\u001b[0m\u001b[0;34m\u001b[0m\u001b[0m\n",
        "\u001b[0;31mNameError\u001b[0m: name 'ry3' is not defined"
       ]
      },
      {
       "output_type": "stream",
       "stream": "stdout",
       "text": [
        "8.16112150159\n",
        "13.4514275834\n"
       ]
      }
     ],
     "prompt_number": 58
    },
    {
     "cell_type": "code",
     "collapsed": false,
     "input": [],
     "language": "python",
     "metadata": {},
     "outputs": []
    }
   ],
   "metadata": {}
  }
 ]
}